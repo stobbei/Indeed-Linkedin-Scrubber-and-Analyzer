{
 "cells": [
  {
   "cell_type": "code",
   "execution_count": 11,
   "metadata": {},
   "outputs": [],
   "source": [
    "from googlesearch import search\n",
    "import wikipedia"
   ]
  },
  {
   "cell_type": "code",
   "execution_count": 10,
   "metadata": {},
   "outputs": [
    {
     "name": "stdout",
     "output_type": "stream",
     "text": [
      "https://www.gmfinancial.com/en-us/about.html\n",
      "https://www.gmfinancial.com/en-us/careers/paths.html\n",
      "https://www.gmfinancial.com/en-us/home.html\n",
      "https://www.gmfinancial.com/en-us/contact.html\n",
      "https://www.gmfinancial.com/en-us/myaccount/login.html\n",
      "https://www.gmfinancial.com/en-us/customer-center/payment-options.html\n",
      "https://www.gmfinancial.com/en-us/mobile.html\n",
      "https://www.gmfinancial.com/en-us/about/newsroom/gm-financial-leads-among-captive-lenders.html\n",
      "https://en.wikipedia.org/wiki/GM_Financial\n",
      "https://www.linkedin.com/company/gm-financial\n"
     ]
    }
   ],
   "source": [
    "query = 'gm financial industry'\n",
    "for j in search(query, stop=10):\n",
    "    print(j)"
   ]
  },
  {
   "cell_type": "code",
   "execution_count": 9,
   "metadata": {},
   "outputs": [
    {
     "data": {
      "text/plain": [
       "[(0, 'https://www.gmfinancial.com/en-us/home.html'),\n",
       " (1, 'https://www.gmfinancial.com/en-us/myaccount/login.html'),\n",
       " (2, 'https://www.gmfinancial.com/en-us/myaccount/registration.html'),\n",
       " (3, 'https://www.gmfinancial.com/en-us/contact.html'),\n",
       " (4, 'https://www.gmfinancial.com/en-us/careers.html')]"
      ]
     },
     "execution_count": 9,
     "metadata": {},
     "output_type": "execute_result"
    }
   ],
   "source": [
    "[(i,e) for i,e in enumerate(search(query, stop=5))]"
   ]
  },
  {
   "cell_type": "code",
   "execution_count": 16,
   "metadata": {},
   "outputs": [
    {
     "data": {
      "text/plain": [
       "['Border trade',\n",
       " 'Brexit and the Irish border',\n",
       " 'History of the Cross Border Xpress',\n",
       " 'Transfast',\n",
       " 'Cross border attacks in Sabah',\n",
       " 'Cross-border insolvency',\n",
       " 'Open border',\n",
       " 'UniCredit Bank Romania',\n",
       " 'List of Canada–United States border crossings',\n",
       " 'Inner German border']"
      ]
     },
     "execution_count": 16,
     "metadata": {},
     "output_type": "execute_result"
    }
   ],
   "source": [
    "wikipedia.search('Cross Border Solutions')"
   ]
  },
  {
   "cell_type": "code",
   "execution_count": null,
   "metadata": {},
   "outputs": [],
   "source": []
  }
 ],
 "metadata": {
  "kernelspec": {
   "display_name": "Python 3",
   "language": "python",
   "name": "python3"
  },
  "language_info": {
   "codemirror_mode": {
    "name": "ipython",
    "version": 3
   },
   "file_extension": ".py",
   "mimetype": "text/x-python",
   "name": "python",
   "nbconvert_exporter": "python",
   "pygments_lexer": "ipython3",
   "version": "3.7.3"
  }
 },
 "nbformat": 4,
 "nbformat_minor": 2
}
